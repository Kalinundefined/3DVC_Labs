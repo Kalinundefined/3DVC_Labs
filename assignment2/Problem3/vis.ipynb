{
 "cells": [
  {
   "cell_type": "code",
   "execution_count": 12,
   "metadata": {},
   "outputs": [
    {
     "name": "stdout",
     "output_type": "stream",
     "text": [
      "\u001b[1;33m[Open3D WARNING] GLFW Error: X11: The DISPLAY environment variable is missing\u001b[0;m\n",
      "\u001b[1;33m[Open3D WARNING] Failed to initialize GLFW\u001b[0;m\n",
      "\u001b[1;33m[Open3D WARNING] [DrawGeometries] Failed creating OpenGL window.\u001b[0;m\n"
     ]
    }
   ],
   "source": [
    "import numpy as np\n",
    "import open3d as o3d\n",
    "\n",
    "from sklearn.neighbors import KDTree as sklearn_KDTree\n",
    "from open3d.web_visualizer import draw\n",
    "\n",
    "\n",
    "pcd = o3d.io.read_point_cloud('/home/jialin/repo22/3dvc/3dvc_1/assignment2/Problem3/bunny.ply')\n",
    "vertices = np.asarray(pcd.points)\n",
    "vertex_normals = np.asarray(pcd.normals)\n",
    "\n",
    "def get_eps(initial_eps=0.005, decay=0.95, threshold=0.999):\n",
    "    eps = initial_eps\n",
    "    while True:\n",
    "        tree = sklearn_KDTree(vertices, leaf_size=10)\n",
    "        pts_ind = np.arange(len(vertices))\n",
    "        _, ind1 = tree.query(vertices + eps * vertex_normals, k=1)\n",
    "        _, ind2 = tree.query(vertices - eps * vertex_normals, k=1)\n",
    "        ratio = sum([(pts_ind == ind1.squeeze()).sum() / len(pts_ind), (pts_ind == ind2.squeeze()).sum() / len(pts_ind)]) / 2\n",
    "        if ratio > threshold:\n",
    "            break\n",
    "        print(f\"ratio is {ratio * 100}% when eps = {eps}\")\n",
    "        eps *= decay\n",
    "\n",
    "    return eps\n",
    "\n",
    "def get_grid(grid_k=64):\n",
    "    voxel_grid= o3d.geometry.VoxelGrid.create_from_point_cloud(pcd, voxel_size=0.01)\n",
    "    o3d.visualization.draw_geometries([voxel_grid])\n",
    "\n",
    "get_grid()"
   ]
  },
  {
   "cell_type": "code",
   "execution_count": 7,
   "metadata": {},
   "outputs": [
    {
     "name": "stdout",
     "output_type": "stream",
     "text": [
      "[Open3D INFO] Window window_2 created.\n"
     ]
    },
    {
     "data": {
      "application/vnd.jupyter.widget-view+json": {
       "model_id": "67ead4720c2c41519400ff5538a79caf",
       "version_major": 2,
       "version_minor": 0
      },
      "text/plain": [
       "WebVisualizer(window_uid='window_2')"
      ]
     },
     "metadata": {},
     "output_type": "display_data"
    }
   ],
   "source": [
    "cube_red = o3d.geometry.TriangleMesh.create_box(1, 2, 4)\n",
    "cube_red.compute_vertex_normals()\n",
    "cube_red.paint_uniform_color((1.0, 0.0, 0.0))\n",
    "draw(cube_red)"
   ]
  }
 ],
 "metadata": {
  "kernelspec": {
   "display_name": "hw2_nerf",
   "language": "python",
   "name": "python3"
  },
  "language_info": {
   "codemirror_mode": {
    "name": "ipython",
    "version": 3
   },
   "file_extension": ".py",
   "mimetype": "text/x-python",
   "name": "python",
   "nbconvert_exporter": "python",
   "pygments_lexer": "ipython3",
   "version": "3.9.16"
  },
  "orig_nbformat": 4
 },
 "nbformat": 4,
 "nbformat_minor": 2
}
